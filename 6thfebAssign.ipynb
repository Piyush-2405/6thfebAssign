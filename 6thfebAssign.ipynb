{
 "cells": [
  {
   "cell_type": "markdown",
   "id": "db780564-62a4-44aa-9272-c5f08c87a8b9",
   "metadata": {},
   "source": [
    "Q1. Create a function which will take a list as an argument and return the product of all the numbers  after creating a flat list. \n",
    "Use the below-given list as an argument for your function. \n",
    "list1 = [1,2,3,4, [44,55,66, True], False, (34,56,78,89,34), {1,2,3,3,2,1}, {1:34, \"key2\": [55, 67, 78, 89], 4: (45,  22, 61, 34)}, [56, 'data science'], 'Machine Learning'] \n",
    "Note: you must extract numeric keys and values of the dictionary also. \n"
   ]
  },
  {
   "cell_type": "code",
   "execution_count": 8,
   "id": "75bc0096-2ff9-4f92-be96-3d45c7d21558",
   "metadata": {},
   "outputs": [
    {
     "name": "stdout",
     "output_type": "stream",
     "text": [
      "\n"
     ]
    }
   ],
   "source": [
    "def product_of_numbers(lst):\n",
    "    flattened_list = []\n",
    "    for item in lst:\n",
    "        if isinstance(item, (list, tuple, set)):\n",
    "            flattened_list.extend(item)\n",
    "        elif isinstance(item, dict):\n",
    "            for key, value in item.items():\n",
    "                if isinstance(key, int):\n",
    "                    flattened_list.append(key)\n",
    "                if isinstance(value, int):\n",
    "                    flattened_list.append(value)\n",
    "                elif isinstance(value, (list, tuple, set)):\n",
    "                    flattened_list.extend(value)\n",
    "        elif isinstance(item, int):\n",
    "            flattened_list.append(item)\n",
    "\n",
    "            \n",
    "    product = 1\n",
    "    for num in flattened_list:\n",
    "        product *= num\n",
    "\n",
    "    return product\n",
    "\n",
    "list1 = [1,2,3,4, [44,55,66, True], False, (34,56,78,89,34), {1,2,3,3,2,1}, {1:34, \"key2\": [55, 67, 78, 89], 4: (45,  22, 61, 34)}, [56, 'data science'], 'Machine Learning'] \n",
    "\n",
    "result = product_of_numbers(list1)\n",
    "\n",
    "print(result) # Output: 43179281405952000\n"
   ]
  },
  {
   "cell_type": "markdown",
   "id": "c6dc29e5-9e54-4228-b5f1-8c7f838c0f47",
   "metadata": {},
   "source": [
    "Q2. Write a python program for encrypting a message sent to you by your friend. The logic of encryption  should be such that, for a the output should be z. For b, the output should be y. For c, the output should  be x respectively. Also, the whitespace should be replaced with a dollar sign. Keep the punctuation  marks unchanged. \n",
    "Input Sentence: I want to become a Data Scientist. \n",
    "Encrypt the above input sentence using the program you just created. \n",
    "Note: Convert the given input sentence into lowercase before encrypting. The final output should be  lowercase. \n"
   ]
  },
  {
   "cell_type": "code",
   "execution_count": 7,
   "id": "06098bf3-cf3f-4681-bede-3e2ea85b8a75",
   "metadata": {},
   "outputs": [
    {
     "name": "stdout",
     "output_type": "stream",
     "text": [
      "r$dzmg$gl$yvxlnv$z$wzgz$hxrvmgrhg.\n"
     ]
    }
   ],
   "source": [
    "def encrypt_message(message):\n",
    "    encrypted_message = \"\"\n",
    "    for char in message:\n",
    "        if char == \" \":\n",
    "            encrypted_message += \"$\"\n",
    "        elif char.isalpha():\n",
    "            encrypted_message += chr(ord(\"a\") + (25 - (ord(char) - ord(\"a\"))))\n",
    "        else:\n",
    "            encrypted_message += char\n",
    "    return encrypted_message.lower()\n",
    "\n",
    "\n",
    "input_sentence = \"I want to become a Data Scientist.\"\n",
    "encrypted_sentence = encrypt_message(input_sentence.lower())\n",
    "print(encrypted_sentence)\n"
   ]
  }
 ],
 "metadata": {
  "kernelspec": {
   "display_name": "Python 3 (ipykernel)",
   "language": "python",
   "name": "python3"
  },
  "language_info": {
   "codemirror_mode": {
    "name": "ipython",
    "version": 3
   },
   "file_extension": ".py",
   "mimetype": "text/x-python",
   "name": "python",
   "nbconvert_exporter": "python",
   "pygments_lexer": "ipython3",
   "version": "3.10.8"
  }
 },
 "nbformat": 4,
 "nbformat_minor": 5
}
